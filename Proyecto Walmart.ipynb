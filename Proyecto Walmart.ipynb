{
 "cells": [
  {
   "cell_type": "code",
   "execution_count": 40,
   "metadata": {},
   "outputs": [],
   "source": [
    "import investpy\n",
    "import pandas as pd\n",
    "import statsmodels.api as sm\n",
    "import numpy as np\n",
    "import plotly.express as px\n",
    "pd.set_option('display.max_rows', 10)"
   ]
  },
  {
   "cell_type": "code",
   "execution_count": 41,
   "metadata": {},
   "outputs": [
    {
     "data": {
      "text/plain": [
       "count    251.000000\n",
       "mean      54.164462\n",
       "std        2.629095\n",
       "min       47.760000\n",
       "25%       52.585000\n",
       "50%       54.740000\n",
       "75%       55.885000\n",
       "max       59.040000\n",
       "Name: Close, dtype: float64"
      ]
     },
     "execution_count": 41,
     "metadata": {},
     "output_type": "execute_result"
    }
   ],
   "source": [
    "df_walmar2019= investpy.get_stock_historical_data(stock='WALMEX',\n",
    "                                        country='mexico',\n",
    "                                        from_date='01/01/2019',to_date=\"31/12/2019\")\n",
    "\n",
    "\n",
    "df_walmar2019.loc[:,\"Close\"].describe()"
   ]
  },
  {
   "cell_type": "code",
   "execution_count": 36,
   "metadata": {},
   "outputs": [
    {
     "data": {
      "text/plain": [
       "count    55.000000\n",
       "mean     56.431273\n",
       "std       1.469903\n",
       "min      51.390000\n",
       "25%      55.585000\n",
       "50%      56.310000\n",
       "75%      57.485000\n",
       "max      59.220000\n",
       "Name: Close, dtype: float64"
      ]
     },
     "execution_count": 36,
     "metadata": {},
     "output_type": "execute_result"
    }
   ],
   "source": [
    "df_walmart_pre_covid = investpy.get_stock_historical_data(stock='WALMEX',\n",
    "                                        country='mexico',\n",
    "                                        from_date='01/01/2020',to_date=\"21/03/2020\")\n",
    "df_walmart_pre_covid.loc[:,\"Close\"].describe()"
   ]
  },
  {
   "cell_type": "code",
   "execution_count": 37,
   "metadata": {
    "scrolled": false
   },
   "outputs": [
    {
     "data": {
      "text/plain": [
       "count    36.000000\n",
       "mean     56.402500\n",
       "std       1.870596\n",
       "min      51.530000\n",
       "25%      55.202500\n",
       "50%      56.465000\n",
       "75%      57.705000\n",
       "max      60.100000\n",
       "Name: Close, dtype: float64"
      ]
     },
     "execution_count": 37,
     "metadata": {},
     "output_type": "execute_result"
    }
   ],
   "source": [
    "df_walmart_post_covid = investpy.get_stock_historical_data(stock='WALMEX',\n",
    "                                        country='mexico',\n",
    "                                        from_date='22/03/2020',to_date=\"14/05/2020\")\n",
    "df_walmart_post_covid.loc[:,\"Close\"].describe()"
   ]
  },
  {
   "cell_type": "code",
   "execution_count": 39,
   "metadata": {},
   "outputs": [
    {
     "data": {
      "text/html": [
       "<div>\n",
       "<style scoped>\n",
       "    .dataframe tbody tr th:only-of-type {\n",
       "        vertical-align: middle;\n",
       "    }\n",
       "\n",
       "    .dataframe tbody tr th {\n",
       "        vertical-align: top;\n",
       "    }\n",
       "\n",
       "    .dataframe thead th {\n",
       "        text-align: right;\n",
       "    }\n",
       "</style>\n",
       "<table border=\"1\" class=\"dataframe\">\n",
       "  <thead>\n",
       "    <tr style=\"text-align: right;\">\n",
       "      <th></th>\n",
       "      <th>Open</th>\n",
       "      <th>High</th>\n",
       "      <th>Low</th>\n",
       "      <th>Close</th>\n",
       "      <th>Volume</th>\n",
       "      <th>Currency</th>\n",
       "    </tr>\n",
       "    <tr>\n",
       "      <th>Date</th>\n",
       "      <th></th>\n",
       "      <th></th>\n",
       "      <th></th>\n",
       "      <th></th>\n",
       "      <th></th>\n",
       "      <th></th>\n",
       "    </tr>\n",
       "  </thead>\n",
       "  <tbody>\n",
       "    <tr>\n",
       "      <td>2020-03-22</td>\n",
       "      <td>51.70</td>\n",
       "      <td>53.29</td>\n",
       "      <td>49.45</td>\n",
       "      <td>51.53</td>\n",
       "      <td>13676453</td>\n",
       "      <td>MXN</td>\n",
       "    </tr>\n",
       "    <tr>\n",
       "      <td>2020-03-23</td>\n",
       "      <td>51.80</td>\n",
       "      <td>56.17</td>\n",
       "      <td>51.80</td>\n",
       "      <td>53.47</td>\n",
       "      <td>27482602</td>\n",
       "      <td>MXN</td>\n",
       "    </tr>\n",
       "    <tr>\n",
       "      <td>2020-03-24</td>\n",
       "      <td>53.46</td>\n",
       "      <td>56.34</td>\n",
       "      <td>52.81</td>\n",
       "      <td>54.75</td>\n",
       "      <td>17867014</td>\n",
       "      <td>MXN</td>\n",
       "    </tr>\n",
       "    <tr>\n",
       "      <td>2020-03-25</td>\n",
       "      <td>55.33</td>\n",
       "      <td>56.19</td>\n",
       "      <td>53.25</td>\n",
       "      <td>53.80</td>\n",
       "      <td>16522700</td>\n",
       "      <td>MXN</td>\n",
       "    </tr>\n",
       "    <tr>\n",
       "      <td>2020-03-26</td>\n",
       "      <td>52.62</td>\n",
       "      <td>54.42</td>\n",
       "      <td>51.02</td>\n",
       "      <td>53.35</td>\n",
       "      <td>15993374</td>\n",
       "      <td>MXN</td>\n",
       "    </tr>\n",
       "    <tr>\n",
       "      <td>...</td>\n",
       "      <td>...</td>\n",
       "      <td>...</td>\n",
       "      <td>...</td>\n",
       "      <td>...</td>\n",
       "      <td>...</td>\n",
       "      <td>...</td>\n",
       "    </tr>\n",
       "    <tr>\n",
       "      <td>2020-05-07</td>\n",
       "      <td>58.30</td>\n",
       "      <td>59.57</td>\n",
       "      <td>58.23</td>\n",
       "      <td>58.59</td>\n",
       "      <td>11552422</td>\n",
       "      <td>MXN</td>\n",
       "    </tr>\n",
       "    <tr>\n",
       "      <td>2020-05-10</td>\n",
       "      <td>58.73</td>\n",
       "      <td>58.78</td>\n",
       "      <td>57.78</td>\n",
       "      <td>57.93</td>\n",
       "      <td>10951804</td>\n",
       "      <td>MXN</td>\n",
       "    </tr>\n",
       "    <tr>\n",
       "      <td>2020-05-11</td>\n",
       "      <td>58.05</td>\n",
       "      <td>58.89</td>\n",
       "      <td>57.51</td>\n",
       "      <td>58.37</td>\n",
       "      <td>10105980</td>\n",
       "      <td>MXN</td>\n",
       "    </tr>\n",
       "    <tr>\n",
       "      <td>2020-05-12</td>\n",
       "      <td>58.50</td>\n",
       "      <td>58.55</td>\n",
       "      <td>57.01</td>\n",
       "      <td>57.47</td>\n",
       "      <td>11655795</td>\n",
       "      <td>MXN</td>\n",
       "    </tr>\n",
       "    <tr>\n",
       "      <td>2020-05-13</td>\n",
       "      <td>57.46</td>\n",
       "      <td>57.46</td>\n",
       "      <td>56.51</td>\n",
       "      <td>56.72</td>\n",
       "      <td>13423006</td>\n",
       "      <td>MXN</td>\n",
       "    </tr>\n",
       "  </tbody>\n",
       "</table>\n",
       "<p>36 rows × 6 columns</p>\n",
       "</div>"
      ],
      "text/plain": [
       "             Open   High    Low  Close    Volume Currency\n",
       "Date                                                     \n",
       "2020-03-22  51.70  53.29  49.45  51.53  13676453      MXN\n",
       "2020-03-23  51.80  56.17  51.80  53.47  27482602      MXN\n",
       "2020-03-24  53.46  56.34  52.81  54.75  17867014      MXN\n",
       "2020-03-25  55.33  56.19  53.25  53.80  16522700      MXN\n",
       "2020-03-26  52.62  54.42  51.02  53.35  15993374      MXN\n",
       "...           ...    ...    ...    ...       ...      ...\n",
       "2020-05-07  58.30  59.57  58.23  58.59  11552422      MXN\n",
       "2020-05-10  58.73  58.78  57.78  57.93  10951804      MXN\n",
       "2020-05-11  58.05  58.89  57.51  58.37  10105980      MXN\n",
       "2020-05-12  58.50  58.55  57.01  57.47  11655795      MXN\n",
       "2020-05-13  57.46  57.46  56.51  56.72  13423006      MXN\n",
       "\n",
       "[36 rows x 6 columns]"
      ]
     },
     "execution_count": 39,
     "metadata": {},
     "output_type": "execute_result"
    }
   ],
   "source": [
    "df_walmart_post_covid"
   ]
  },
  {
   "cell_type": "code",
   "execution_count": null,
   "metadata": {},
   "outputs": [],
   "source": []
  }
 ],
 "metadata": {
  "kernelspec": {
   "display_name": "Python 3",
   "language": "python",
   "name": "python3"
  },
  "language_info": {
   "codemirror_mode": {
    "name": "ipython",
    "version": 3
   },
   "file_extension": ".py",
   "mimetype": "text/x-python",
   "name": "python",
   "nbconvert_exporter": "python",
   "pygments_lexer": "ipython3",
   "version": "3.7.4"
  }
 },
 "nbformat": 4,
 "nbformat_minor": 2
}
